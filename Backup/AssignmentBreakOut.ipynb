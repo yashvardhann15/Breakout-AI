{
  "cells": [
    {
      "cell_type": "code",
      "execution_count": 30,
      "metadata": {
        "id": "gdfsHzZjMHI7"
      },
      "outputs": [],
      "source": [
        "import pandas as pd"
      ]
    },
    {
      "cell_type": "code",
      "execution_count": 31,
      "metadata": {
        "colab": {
          "base_uri": "https://localhost:8080/"
        },
        "id": "5t-bNTC1MIMb",
        "outputId": "141e0186-8cd7-45f1-d735-18f04e0dd35f"
      },
      "outputs": [
        {
          "name": "stdout",
          "output_type": "stream",
          "text": [
            "Choose input method:\n",
            "1: Upload a CSV file\n",
            "2: Enter a Google Sheets link\n",
            "Enter choice (1 or 2): 2\n"
          ]
        }
      ],
      "source": [
        "print(\"Choose input method:\")\n",
        "print(\"1: Upload a CSV file\")\n",
        "print(\"2: Enter a Google Sheets link\")\n",
        "choice = input(\"Enter choice (1 or 2): \")"
      ]
    },
    {
      "cell_type": "code",
      "execution_count": 32,
      "metadata": {
        "id": "8AJo-tlWMKdw"
      },
      "outputs": [],
      "source": [
        "def load_csv():\n",
        "    from google.colab import files\n",
        "    uploaded = files.upload()\n",
        "    filename = list(uploaded.keys())[0]\n",
        "    df = pd.read_csv(filename)\n",
        "    return df"
      ]
    },
    {
      "cell_type": "code",
      "execution_count": 33,
      "metadata": {
        "id": "Ik4OTTu6MQGW"
      },
      "outputs": [],
      "source": [
        "def load_google_sheet(sheet_url):\n",
        "    try:\n",
        "        # Extract Google Sheets ID using a more robust method\n",
        "        import re\n",
        "        sheet_id = re.search('/spreadsheets/d/([a-zA-Z0-9-_]+)', sheet_url).group(1)\n",
        "\n",
        "        # Define Google Sheets CSV export URL\n",
        "        csv_url = f\"https://docs.google.com/spreadsheets/d/{sheet_id}/export?format=csv\"\n",
        "        df = pd.read_csv(csv_url)\n",
        "        return df\n",
        "    except (AttributeError, IndexError):\n",
        "        # Handle case where the URL format is not as expected.\n",
        "        print(\"Error: Invalid Google Sheets URL format.\")\n",
        "        return None"
      ]
    },
    {
      "cell_type": "code",
      "execution_count": 34,
      "metadata": {
        "colab": {
          "base_uri": "https://localhost:8080/"
        },
        "id": "S7l9min8MWeO",
        "outputId": "3ee6e9b0-bbff-4032-c7f6-40e7a75c5adb"
      },
      "outputs": [
        {
          "name": "stdout",
          "output_type": "stream",
          "text": [
            "Enter the Google Sheets link: https://docs.google.com/spreadsheets/d/1wz3iIdlipf2GA1HcAbsX-kHjz01iRnxuJgzTRk87J3w/edit?gid=255587569#gid=255587569\n"
          ]
        }
      ],
      "source": [
        "if choice == '1':\n",
        "    df = load_csv()\n",
        "elif choice == '2':\n",
        "    sheet_url = input(\"Enter the Google Sheets link: \")\n",
        "    df = load_google_sheet(sheet_url)\n",
        "else:\n",
        "    print(\"Invalid choice.\")\n",
        "    df = None"
      ]
    },
    {
      "cell_type": "markdown",
      "metadata": {
        "id": "5mBOgLqgQh-H"
      },
      "source": [
        "https://docs.google.com/spreadsheets/d/1wz3iIdlipf2GA1HcAbsX-kHjz01iRnxuJgzTRk87J3w/edit?usp=sharing\n"
      ]
    },
    {
      "cell_type": "code",
      "execution_count": 35,
      "metadata": {
        "colab": {
          "base_uri": "https://localhost:8080/"
        },
        "collapsed": true,
        "id": "fBGSUWHYMaNe",
        "outputId": "37f81ef2-1643-4992-e647-077b720005cb"
      },
      "outputs": [
        {
          "output_type": "stream",
          "name": "stdout",
          "text": [
            "First few rows of the dataset:\n",
            "   Serial No.                                           Airports  \\\n",
            "0           1    Chhatrapati Shivaji International Airport – BOM   \n",
            "1           2             Kempegowda International Airport – BLR   \n",
            "2           3                Chennai International Airport – MAA   \n",
            "3           4  Netaji Subhas Chandra Bose International Airpo...   \n",
            "4           5  Chaudhary Charan Singh International Airport –...   \n",
            "\n",
            "      General To                   Type    Latitude  Latitude_1   Longitude  \\\n",
            "0  Coastal plain  International Airport   19 5' 23\"    19.09894   72 52' 5\"   \n",
            "1        Plateau  International Airport  13 11' 55\"    13.19923  77 42' 24\"   \n",
            "2  Coastal plain  International Airport  12 59' 39\"    12.98242   80 10' 9\"   \n",
            "3  Coastal plain  International Airport  22 39' 17\"    22.65395  88 26' 48\"   \n",
            "4          plain  International Airport  26 45' 38\"    26.76568  80 53' 10\"   \n",
            "\n",
            "   Longitude_1  Altitudes        Role  \n",
            "0     72.87516         11  Commercial  \n",
            "1     77.70747        888  Commercial  \n",
            "2     80.16429         16  Commercial  \n",
            "3     88.44554          5  Commercial  \n",
            "4     80.88572        123  Commercial  \n",
            "\n",
            "Dataset Information:\n",
            "<class 'pandas.core.frame.DataFrame'>\n",
            "RangeIndex: 76 entries, 0 to 75\n",
            "Data columns (total 10 columns):\n",
            " #   Column       Non-Null Count  Dtype  \n",
            "---  ------       --------------  -----  \n",
            " 0   Serial No.   76 non-null     int64  \n",
            " 1   Airports     76 non-null     object \n",
            " 2   General To   76 non-null     object \n",
            " 3   Type         76 non-null     object \n",
            " 4   Latitude     76 non-null     object \n",
            " 5   Latitude_1   76 non-null     float64\n",
            " 6   Longitude    76 non-null     object \n",
            " 7   Longitude_1  76 non-null     float64\n",
            " 8   Altitudes    76 non-null     int64  \n",
            " 9   Role         76 non-null     object \n",
            "dtypes: float64(2), int64(2), object(6)\n",
            "memory usage: 6.1+ KB\n",
            "None\n"
          ]
        }
      ],
      "source": [
        "if df is not None:\n",
        "    print(\"First few rows of the dataset:\")\n",
        "    print(df.head())\n",
        "\n",
        "if df is not None:\n",
        "    print(\"\\nDataset Information:\")\n",
        "    print(df.info())"
      ]
    },
    {
      "cell_type": "code",
      "execution_count": 36,
      "metadata": {
        "colab": {
          "base_uri": "https://localhost:8080/"
        },
        "id": "1tRHSIcXPk44",
        "outputId": "64817aab-1fab-4c75-d796-a8991eceb484"
      },
      "outputs": [
        {
          "output_type": "stream",
          "name": "stdout",
          "text": [
            "\n",
            "Available columns:\n",
            "1: Serial No.\n",
            "2: Airports\n",
            "3: General To\n",
            "4: Type\n",
            "5: Latitude\n",
            "6: Latitude_1\n",
            "7: Longitude\n",
            "8: Longitude_1\n",
            "9: Altitudes\n",
            "10: Role\n",
            "Select a column by number: 2\n",
            "\n",
            "You selected: Airports\n"
          ]
        }
      ],
      "source": [
        "print(\"\\nAvailable columns:\")\n",
        "for i, col in enumerate(df.columns):\n",
        "    print(f\"{i + 1}: {col}\")\n",
        "\n",
        "# Prompt user to select a column\n",
        "col_choice = int(input(\"Select a column by number: \")) - 1\n",
        "\n",
        "# Store the selected column name in `selected_attribute`\n",
        "if 0 <= col_choice < len(df.columns):\n",
        "    selected_attribute = df.columns[col_choice]\n",
        "    print(f\"\\nYou selected: {selected_attribute}\")\n",
        "else:\n",
        "    print(\"Invalid column selection.\")"
      ]
    },
    {
      "cell_type": "code",
      "execution_count": 37,
      "metadata": {
        "colab": {
          "base_uri": "https://localhost:8080/"
        },
        "id": "G5mGGgGuQ1BK",
        "outputId": "59c5e498-ce0e-49c1-d15b-fc3c6d1a006f"
      },
      "outputs": [
        {
          "name": "stdout",
          "output_type": "stream",
          "text": [
            "Enter a prompt, Note: You should enclosed the value of column in curly brackets{}. For example 'Give me the contact details of {Chhatrapati Shivaji International Airport – BOM}' where you have selected the Airports fieldI want to get details of {Chhatrapati Shivaji International Airport – BOM}\n"
          ]
        }
      ],
      "source": [
        "if selected_attribute:\n",
        "    prompt = input(\"Enter a prompt, Note: You should enclosed the value of column in curly brackets{}. For example 'Give me the contact details of {Chhatrapati Shivaji International Airport – BOM}' where you have selected the Airports field\")"
      ]
    },
    {
      "cell_type": "code",
      "execution_count": 38,
      "metadata": {
        "colab": {
          "base_uri": "https://localhost:8080/"
        },
        "id": "Ql-5yEHtRk8q",
        "outputId": "aa526222-a351-41af-8501-a4ec2ea14026"
      },
      "outputs": [
        {
          "output_type": "stream",
          "name": "stdout",
          "text": [
            "I want to get details of {Chhatrapati Shivaji International Airport – BOM}\n",
            "Requirement already satisfied: google-search-results in /usr/local/lib/python3.10/dist-packages (2.4.2)\n",
            "Requirement already satisfied: requests in /usr/local/lib/python3.10/dist-packages (from google-search-results) (2.32.3)\n",
            "Requirement already satisfied: charset-normalizer<4,>=2 in /usr/local/lib/python3.10/dist-packages (from requests->google-search-results) (3.4.0)\n",
            "Requirement already satisfied: idna<4,>=2.5 in /usr/local/lib/python3.10/dist-packages (from requests->google-search-results) (3.10)\n",
            "Requirement already satisfied: urllib3<3,>=1.21.1 in /usr/local/lib/python3.10/dist-packages (from requests->google-search-results) (2.2.3)\n",
            "Requirement already satisfied: certifi>=2017.4.17 in /usr/local/lib/python3.10/dist-packages (from requests->google-search-results) (2024.8.30)\n"
          ]
        }
      ],
      "source": [
        "print(prompt)\n",
        "!pip install google-search-results"
      ]
    },
    {
      "cell_type": "code",
      "execution_count": 39,
      "metadata": {
        "id": "9mROoz-F0Dbx"
      },
      "outputs": [],
      "source": [
        "serpApi = \"40fe77b8cd91fac2fd10b3abccfe946a9f70dc2a72f2ed6888ab1fd587f745e2\""
      ]
    },
    {
      "cell_type": "code",
      "source": [
        "import re\n",
        "from serpapi import GoogleSearch\n",
        "\n",
        "match = re.search(r'\\{(.+?)\\}', prompt)\n",
        "selected_value = match.group(1)\n",
        "\n",
        "def searchGoogle(prompt):\n",
        "    \"\"\"\n",
        "    Function to search Google using SerpAPI and return search results.\n",
        "    \"\"\"\n",
        "    # match = re.search(r'\\{(.+?)\\}', prompt)\n",
        "    if not match:\n",
        "        return \"No value found in curly braces in the prompt.\"\n",
        "\n",
        "    # selected_value = match.group(1)\n",
        "    search_query = prompt.replace(f\"For {{{selected_value}}}\", str(df[selected_attribute].iloc[0]))\n",
        "    print(f\"Search Query: {search_query}\")\n",
        "\n",
        "    params = {\n",
        "        \"engine\": \"google\",\n",
        "        \"q\": search_query,\n",
        "        \"api_key\": serpApi\n",
        "    }\n",
        "\n",
        "    search = GoogleSearch(params)\n",
        "    results = search.get_dict()\n",
        "\n",
        "    if \"organic_results\" not in results or not results[\"organic_results\"]:\n",
        "        return \"No search results found.\"\n",
        "\n",
        "    # Filter and format results\n",
        "    formatted_results = []\n",
        "    for result in results.get(\"organic_results\", []):\n",
        "        title = result.get(\"title\", \"No Title\")\n",
        "        link = result.get(\"link\", \"No Link\")\n",
        "        snippet = result.get(\"snippet\", \"No Snippet\")\n",
        "        formatted_results.append({\n",
        "            \"title\": title.strip(),\n",
        "            \"link\": link.strip(),\n",
        "            \"snippet\": snippet.strip()\n",
        "        })\n",
        "\n",
        "    return formatted_results\n"
      ],
      "metadata": {
        "id": "67vW_JSSpvCD"
      },
      "execution_count": 40,
      "outputs": []
    },
    {
      "cell_type": "code",
      "execution_count": 41,
      "metadata": {
        "id": "HfboCowMa3vI"
      },
      "outputs": [],
      "source": [
        "import requests\n",
        "\n",
        "GroqAPi = \"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\""
      ]
    },
    {
      "cell_type": "code",
      "execution_count": 42,
      "metadata": {
        "colab": {
          "base_uri": "https://localhost:8080/"
        },
        "id": "7IJEe8DusA_G",
        "outputId": "77928e42-c710-4f1b-fa36-26adc0813aa6"
      },
      "outputs": [
        {
          "output_type": "stream",
          "name": "stdout",
          "text": [
            "Requirement already satisfied: groq in /usr/local/lib/python3.10/dist-packages (0.12.0)\n",
            "Requirement already satisfied: anyio<5,>=3.5.0 in /usr/local/lib/python3.10/dist-packages (from groq) (3.7.1)\n",
            "Requirement already satisfied: distro<2,>=1.7.0 in /usr/local/lib/python3.10/dist-packages (from groq) (1.9.0)\n",
            "Requirement already satisfied: httpx<1,>=0.23.0 in /usr/local/lib/python3.10/dist-packages (from groq) (0.27.2)\n",
            "Requirement already satisfied: pydantic<3,>=1.9.0 in /usr/local/lib/python3.10/dist-packages (from groq) (2.9.2)\n",
            "Requirement already satisfied: sniffio in /usr/local/lib/python3.10/dist-packages (from groq) (1.3.1)\n",
            "Requirement already satisfied: typing-extensions<5,>=4.7 in /usr/local/lib/python3.10/dist-packages (from groq) (4.12.2)\n",
            "Requirement already satisfied: idna>=2.8 in /usr/local/lib/python3.10/dist-packages (from anyio<5,>=3.5.0->groq) (3.10)\n",
            "Requirement already satisfied: exceptiongroup in /usr/local/lib/python3.10/dist-packages (from anyio<5,>=3.5.0->groq) (1.2.2)\n",
            "Requirement already satisfied: certifi in /usr/local/lib/python3.10/dist-packages (from httpx<1,>=0.23.0->groq) (2024.8.30)\n",
            "Requirement already satisfied: httpcore==1.* in /usr/local/lib/python3.10/dist-packages (from httpx<1,>=0.23.0->groq) (1.0.6)\n",
            "Requirement already satisfied: h11<0.15,>=0.13 in /usr/local/lib/python3.10/dist-packages (from httpcore==1.*->httpx<1,>=0.23.0->groq) (0.14.0)\n",
            "Requirement already satisfied: annotated-types>=0.6.0 in /usr/local/lib/python3.10/dist-packages (from pydantic<3,>=1.9.0->groq) (0.7.0)\n",
            "Requirement already satisfied: pydantic-core==2.23.4 in /usr/local/lib/python3.10/dist-packages (from pydantic<3,>=1.9.0->groq) (2.23.4)\n"
          ]
        }
      ],
      "source": [
        "!pip install groq"
      ]
    },
    {
      "cell_type": "code",
      "source": [
        "from groq import Groq\n",
        "\n",
        "# Initialize Groq client\n",
        "client = Groq(api_key=GroqAPi)\n",
        "\n",
        "# Initialize chat history\n",
        "chat_history = [\n",
        "    {\n",
        "        \"role\": \"system\",\n",
        "        \"content\": \"You are an assistant specialized in extracting specific information from web pages based on a query. Provide only the requested information. If no relevant data is available, respond with 'Result not found' only and only.\"\n",
        "    }\n",
        "]\n",
        "\n",
        "\n",
        "mapping = {}\n",
        "\n",
        "\n",
        "def getResult(results, backPrompt, chat_history):\n",
        "    \"\"\"\n",
        "    Extract and present information in a structured and concise format.\n",
        "    \"\"\"\n",
        "    MAX_HISTORY_LENGTH = 5\n",
        "    chat_history = chat_history[-MAX_HISTORY_LENGTH:]\n",
        "\n",
        "    all_responses = []\n",
        "    organic_results = results\n",
        "\n",
        "    for batch in organic_results:\n",
        "        # Formulate user query for Groq\n",
        "        chat_history.append({\n",
        "            \"role\": \"user\",\n",
        "            \"content\": f\"\"\"\n",
        "            I have a search result. Please extract the requested details:\n",
        "\n",
        "            Search Result:\n",
        "            Title: {batch['title']}\n",
        "            Link: {batch['link']}\n",
        "            Snippet: {batch['snippet']}\n",
        "\n",
        "            Extraction Task:\n",
        "            {backPrompt}\n",
        "\n",
        "            Provide only the requested information.\n",
        "            \"\"\"\n",
        "        })\n",
        "\n",
        "        # Send request to Groq\n",
        "        completion = client.chat.completions.create(\n",
        "            model=\"llama3-8b-8192\",\n",
        "            messages=chat_history\n",
        "        )\n",
        "\n",
        "        ai_response = completion.choices[0].message.content\n",
        "        chat_history.append({\n",
        "            \"role\": \"assistant\",\n",
        "            \"content\": ai_response\n",
        "        })\n",
        "\n",
        "        # Consolidate responses\n",
        "        if \"result not found\" not in ai_response.lower():\n",
        "            all_responses.append(ai_response)\n",
        "\n",
        "    if not all_responses:\n",
        "        return \"Result not found.\"\n",
        "\n",
        "    # Format responses into a single output\n",
        "    # return \"\\n\".join(all_responses)\n",
        "    return combineResponses(all_responses)\n",
        "\n",
        "\n",
        "def combineResponses(responses):\n",
        "    \"\"\"\n",
        "    Dynamically aggregate and deduplicate responses into a single coherent response.\n",
        "    \"\"\"\n",
        "    unique_responses = set(responses)  # Remove duplicates\n",
        "    combined_response = \"\\n\".join(unique_responses)\n",
        "\n",
        "    # Additional formatting (if required)\n",
        "    result = f\"**Extracted Information:**\\n{combined_response}\"\n",
        "    return result.strip()\n",
        "\n",
        "\n",
        "while True:\n",
        "    backPrompt = input(f\"Enter the details you want to fetch about the selected attribute: ('0' to end) \")\n",
        "    if backPrompt == '0':\n",
        "        break\n",
        "\n",
        "    search_results = searchGoogle(prompt)\n",
        "    aiResponse = getResult(search_results, backPrompt, chat_history)\n",
        "    print(\"Extracted Information:\")\n",
        "    print(aiResponse)\n",
        "    print('\\n\\n')\n",
        "    mapping[backPrompt] = aiResponse\n",
        "    print(mapping)\n",
        "    print('\\n\\n')\n"
      ],
      "metadata": {
        "colab": {
          "base_uri": "https://localhost:8080/"
        },
        "id": "IUJqHx01py7L",
        "outputId": "197006ea-58f0-41d9-c2fc-1af2ca9a18a1"
      },
      "execution_count": 43,
      "outputs": [
        {
          "name": "stdout",
          "output_type": "stream",
          "text": [
            "Enter the details you want to fetch about the selected attribute: ('0' to end) I want to get information desk contact details\n",
            "Search Query: I want to get details of {Chhatrapati Shivaji International Airport – BOM}\n",
            "Extracted Information:\n",
            "**Extracted Information:**\n",
            "Contact details for the information desk:\n",
            "\n",
            "* Information available on the official website: None found\n",
            "Contact information for the Information Desk:\n",
            "\n",
            "Phone: 022 66851010\n",
            "Contact information for the Information Desk:\n",
            "\n",
            "Phone: +91-22-6685 1031\n",
            "\n",
            "Note: Phone number may be subject to change, it's recommended to check with the airport's official website or other reliable sources for the most up-to-date information.\n",
            "Information Desk Contact Details:\n",
            "\n",
            "Phone: +91-22-6685-1031, +91-22-66851234 (available 24 hours)\n",
            "\n",
            "Note: Phone numbers may be subject to change, it's recommended to check with the airport's official website or other reliable sources for the most up-to-date information.\n",
            "\n",
            "\n",
            "\n",
            "{'I want to get information desk contact details': \"**Extracted Information:**\\nContact details for the information desk:\\n\\n* Information available on the official website: None found\\nContact information for the Information Desk:\\n\\nPhone: 022 66851010\\nContact information for the Information Desk:\\n\\nPhone: +91-22-6685 1031\\n\\nNote: Phone number may be subject to change, it's recommended to check with the airport's official website or other reliable sources for the most up-to-date information.\\nInformation Desk Contact Details:\\n\\nPhone: +91-22-6685-1031, +91-22-66851234 (available 24 hours)\\n\\nNote: Phone numbers may be subject to change, it's recommended to check with the airport's official website or other reliable sources for the most up-to-date information.\"}\n",
            "\n",
            "\n",
            "\n",
            "Enter the details you want to fetch about the selected attribute: ('0' to end) Find me the exact location of the airport\n",
            "Search Query: I want to get details of {Chhatrapati Shivaji International Airport – BOM}\n",
            "Extracted Information:\n",
            "**Extracted Information:**\n",
            "The exact location of the airport is:\n",
            "\n",
            "Vihar Lake, Andheri East, Mumbai, Maharashtra, India\n",
            "The exact location of the airport is:\n",
            "\n",
            "Sahar, Andheri East, Mumbai, Maharashtra 400029\n",
            "The exact location of the airport is:\n",
            "\n",
            "Andheri East, Mumbai, Maharashtra, India\n",
            "\n",
            "\n",
            "\n",
            "{'I want to get information desk contact details': \"**Extracted Information:**\\nContact details for the information desk:\\n\\n* Information available on the official website: None found\\nContact information for the Information Desk:\\n\\nPhone: 022 66851010\\nContact information for the Information Desk:\\n\\nPhone: +91-22-6685 1031\\n\\nNote: Phone number may be subject to change, it's recommended to check with the airport's official website or other reliable sources for the most up-to-date information.\\nInformation Desk Contact Details:\\n\\nPhone: +91-22-6685-1031, +91-22-66851234 (available 24 hours)\\n\\nNote: Phone numbers may be subject to change, it's recommended to check with the airport's official website or other reliable sources for the most up-to-date information.\", 'Find me the exact location of the airport': '**Extracted Information:**\\nThe exact location of the airport is:\\n\\nVihar Lake, Andheri East, Mumbai, Maharashtra, India\\nThe exact location of the airport is:\\n\\nSahar, Andheri East, Mumbai, Maharashtra 400029\\nThe exact location of the airport is:\\n\\nAndheri East, Mumbai, Maharashtra, India'}\n",
            "\n",
            "\n",
            "\n",
            "Enter the details you want to fetch about the selected attribute: ('0' to end) Find me flights to delhi from this airport\n",
            "Search Query: I want to get details of {Chhatrapati Shivaji International Airport – BOM}\n",
            "Extracted Information:\n",
            "**Extracted Information:**\n",
            "Flights from Mumbai Chhatrapati Shivaji Maharaj International Airport (BOM) to Delhi (DEL) can be found by visiting the official website of All Nippon Airways (ANA) or other flight search engines like Google Flights, Skyscanner, or Expedia.\n",
            "You can find flights from Mumbai Chhatrapati Shivaji International Airport (BOM) to Delhi (DEL) by visiting the flight tracking website Flightradar24 or other flight search engines like Google Flights, Skyscanner, or Expedia.\n",
            "You can book and find flights from Mumbai International Airport (BOM) to Delhi (DEL) on the official website of Air India, or other flight search engines like Google Flights, Skyscanner, or Expedia.\n",
            "You can find flights from Mumbai Chhatrapati Shivaji Intl Airport (BOM) to Delhi (DEL) by using the flight search website KAYAK or other flight search engines like Google Flights, Skyscanner, or Expedia.\n",
            "You can find flights from Mumbai International Airport (BOM) to Delhi (DEL) on the official website of IndiGo, or other flight search engines like Google Flights, Skyscanner, or Expedia.\n",
            "\n",
            "\n",
            "\n",
            "{'I want to get information desk contact details': \"**Extracted Information:**\\nContact details for the information desk:\\n\\n* Information available on the official website: None found\\nContact information for the Information Desk:\\n\\nPhone: 022 66851010\\nContact information for the Information Desk:\\n\\nPhone: +91-22-6685 1031\\n\\nNote: Phone number may be subject to change, it's recommended to check with the airport's official website or other reliable sources for the most up-to-date information.\\nInformation Desk Contact Details:\\n\\nPhone: +91-22-6685-1031, +91-22-66851234 (available 24 hours)\\n\\nNote: Phone numbers may be subject to change, it's recommended to check with the airport's official website or other reliable sources for the most up-to-date information.\", 'Find me the exact location of the airport': '**Extracted Information:**\\nThe exact location of the airport is:\\n\\nVihar Lake, Andheri East, Mumbai, Maharashtra, India\\nThe exact location of the airport is:\\n\\nSahar, Andheri East, Mumbai, Maharashtra 400029\\nThe exact location of the airport is:\\n\\nAndheri East, Mumbai, Maharashtra, India', 'Find me flights to delhi from this airport': '**Extracted Information:**\\nFlights from Mumbai Chhatrapati Shivaji Maharaj International Airport (BOM) to Delhi (DEL) can be found by visiting the official website of All Nippon Airways (ANA) or other flight search engines like Google Flights, Skyscanner, or Expedia.\\nYou can find flights from Mumbai Chhatrapati Shivaji International Airport (BOM) to Delhi (DEL) by visiting the flight tracking website Flightradar24 or other flight search engines like Google Flights, Skyscanner, or Expedia.\\nYou can book and find flights from Mumbai International Airport (BOM) to Delhi (DEL) on the official website of Air India, or other flight search engines like Google Flights, Skyscanner, or Expedia.\\nYou can find flights from Mumbai Chhatrapati Shivaji Intl Airport (BOM) to Delhi (DEL) by using the flight search website KAYAK or other flight search engines like Google Flights, Skyscanner, or Expedia.\\nYou can find flights from Mumbai International Airport (BOM) to Delhi (DEL) on the official website of IndiGo, or other flight search engines like Google Flights, Skyscanner, or Expedia.'}\n",
            "\n",
            "\n",
            "\n",
            "Enter the details you want to fetch about the selected attribute: ('0' to end) 0\n"
          ]
        }
      ]
    },
    {
      "source": [
        "import pandas as pd\n",
        "from google.colab import files\n",
        "\n",
        "# File path for the results file\n",
        "file_path = \"results.csv\"\n",
        "\n",
        "# Prepare data for appending\n",
        "data = {\"User Query\": [], \"AI Response\": []}\n",
        "for query, response in mapping.items():\n",
        "    data[\"User Query\"].append(query)\n",
        "    data[\"AI Response\"].append(response)\n",
        "\n",
        "# Convert mapping to DataFrame\n",
        "df = pd.DataFrame(data)\n",
        "\n",
        "try:\n",
        "    # Append to existing file if it exists\n",
        "    existing_df = pd.read_csv(file_path)\n",
        "    updated_df = pd.concat([existing_df, df], ignore_index=True)\n",
        "    updated_df.to_csv(file_path, index=False)\n",
        "except FileNotFoundError:\n",
        "    # Create new file if it doesn't exist\n",
        "    df.to_csv(file_path, index=False)\n",
        "\n",
        "print(f\"Results file created or updated at {file_path}.\")\n",
        "\n",
        "# Ask for confirmation before downloading\n",
        "download_confirmation = input(\"Are you satisfied with the results and want to download the file? (yes/no): \")\n",
        "\n",
        "if download_confirmation.lower() == \"yes\":\n",
        "    files.download('results.csv')\n",
        "else:\n",
        "    print(\"Download cancelled.\")"
      ],
      "cell_type": "code",
      "metadata": {
        "colab": {
          "base_uri": "https://localhost:8080/",
          "height": 52
        },
        "id": "RhUygPjw-KNh",
        "outputId": "31bae3ec-ed53-4a3e-85de-5f07ed48e491"
      },
      "execution_count": 45,
      "outputs": [
        {
          "name": "stdout",
          "output_type": "stream",
          "text": [
            "Results file created or updated at results.csv.\n",
            "Are you satisfied with the results and want to download the file? (yes/no): yes\n"
          ]
        },
        {
          "output_type": "display_data",
          "data": {
            "text/plain": [
              "<IPython.core.display.Javascript object>"
            ],
            "application/javascript": [
              "\n",
              "    async function download(id, filename, size) {\n",
              "      if (!google.colab.kernel.accessAllowed) {\n",
              "        return;\n",
              "      }\n",
              "      const div = document.createElement('div');\n",
              "      const label = document.createElement('label');\n",
              "      label.textContent = `Downloading \"${filename}\": `;\n",
              "      div.appendChild(label);\n",
              "      const progress = document.createElement('progress');\n",
              "      progress.max = size;\n",
              "      div.appendChild(progress);\n",
              "      document.body.appendChild(div);\n",
              "\n",
              "      const buffers = [];\n",
              "      let downloaded = 0;\n",
              "\n",
              "      const channel = await google.colab.kernel.comms.open(id);\n",
              "      // Send a message to notify the kernel that we're ready.\n",
              "      channel.send({})\n",
              "\n",
              "      for await (const message of channel.messages) {\n",
              "        // Send a message to notify the kernel that we're ready.\n",
              "        channel.send({})\n",
              "        if (message.buffers) {\n",
              "          for (const buffer of message.buffers) {\n",
              "            buffers.push(buffer);\n",
              "            downloaded += buffer.byteLength;\n",
              "            progress.value = downloaded;\n",
              "          }\n",
              "        }\n",
              "      }\n",
              "      const blob = new Blob(buffers, {type: 'application/binary'});\n",
              "      const a = document.createElement('a');\n",
              "      a.href = window.URL.createObjectURL(blob);\n",
              "      a.download = filename;\n",
              "      div.appendChild(a);\n",
              "      a.click();\n",
              "      div.remove();\n",
              "    }\n",
              "  "
            ]
          },
          "metadata": {}
        },
        {
          "output_type": "display_data",
          "data": {
            "text/plain": [
              "<IPython.core.display.Javascript object>"
            ],
            "application/javascript": [
              "download(\"download_7fec2e79-5347-441a-a18a-e945c142a0ee\", \"results.csv\", 5308)"
            ]
          },
          "metadata": {}
        }
      ]
    }
  ],
  "metadata": {
    "colab": {
      "gpuType": "T4",
      "provenance": []
    },
    "kernelspec": {
      "display_name": "Python 3",
      "name": "python3"
    },
    "language_info": {
      "name": "python"
    }
  },
  "nbformat": 4,
  "nbformat_minor": 0
}